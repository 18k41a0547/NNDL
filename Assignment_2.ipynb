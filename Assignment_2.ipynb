{
  "nbformat": 4,
  "nbformat_minor": 0,
  "metadata": {
    "colab": {
      "name": "Assignment 2.ipynb",
      "provenance": [],
      "authorship_tag": "ABX9TyOVQPDz3rF61puWUqSjvKv9",
      "include_colab_link": true
    },
    "kernelspec": {
      "name": "python3",
      "display_name": "Python 3"
    },
    "language_info": {
      "name": "python"
    }
  },
  "cells": [
    {
      "cell_type": "markdown",
      "metadata": {
        "id": "view-in-github",
        "colab_type": "text"
      },
      "source": [
        "<a href=\"https://colab.research.google.com/github/18k41a0547/NNDL/blob/main/Assignment_2.ipynb\" target=\"_parent\"><img src=\"https://colab.research.google.com/assets/colab-badge.svg\" alt=\"Open In Colab\"/></a>"
      ]
    },
    {
      "cell_type": "code",
      "metadata": {
        "colab": {
          "base_uri": "https://localhost:8080/"
        },
        "id": "wm_j4Sy72DWJ",
        "outputId": "4ca99f7b-154b-46cd-9013-ca8db2dd9ef8"
      },
      "source": [
        "\n",
        "from sympy import Symbol, Derivative, symbols\n",
        "x= Symbol('x')\n",
        "y= Symbol('y')\n",
        "function = x**2 + y**2 + 10\n",
        "partialderiv= Derivative(function, y)\n",
        "dfy = partialderiv.doit()\n",
        "partialderiv= Derivative(function, x)\n",
        "dfx = partialderiv.doit()\n",
        "\n",
        "print(f'first order derivatives of given function are df/dx = {dfx} ,df/dy = {dfy}')\n",
        "x1 = -1.0 \n",
        "y1 = 2.0  #variable x, y\n",
        "itr = 100  #epoches\n",
        "learning_rate = 0.1  #learning rate\n",
        "for i in range(0,itr):\n",
        "    x = symbols('x')\n",
        "    y = symbols('y')\n",
        "    dfxv = dfx.subs(x, x1) \n",
        "    dfxv = round(dfxv,2)\n",
        "    dfyv = dfy.subs(y, y1) \n",
        "    dfyv = round(dfyv,2)\n",
        "    dx = (-1.0)*learning_rate*dfxv\n",
        "    dy = (-1.0)*learning_rate*dfyv\n",
        "   \n",
        "    x1 = x1 + dx\n",
        "    x1 = round(x1, 2) \n",
        "    y1 = y1 + dy\n",
        "    y1 = round(y1, 2)\n",
        "  \n",
        "print(x1, y1)\n",
        "print(f'minimum value at x = {x1} ,y ={y1} ')"
      ],
      "execution_count": 3,
      "outputs": [
        {
          "output_type": "stream",
          "text": [
            "first order derivatives of given function are df/dx = 2*x ,df/dy = 2*y\n",
            "-0.02 0.02\n",
            "minimum value at x = -0.02 ,y =0.02 \n"
          ],
          "name": "stdout"
        }
      ]
    }
  ]
}